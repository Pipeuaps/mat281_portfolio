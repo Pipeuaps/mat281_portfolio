{
 "cells": [
  {
   "cell_type": "markdown",
   "metadata": {},
   "source": [
    "<img src=\"images/usm.jpg\" width=\"480\" height=\"240\" align=\"left\"/>"
   ]
  },
  {
   "cell_type": "markdown",
   "metadata": {},
   "source": [
    "# MAT281 - Laboratorios N°01\n",
    "\n",
    "## Objetivos del laboratorio\n",
    "\n",
    "* Reforzar conceptos básicos de regresión lineal."
   ]
  },
  {
   "cell_type": "markdown",
   "metadata": {},
   "source": [
    "## Contenidos\n",
    "\n",
    "* [Problema 01](#p1)\n"
   ]
  },
  {
   "cell_type": "markdown",
   "metadata": {},
   "source": [
    "<a id='p1'></a>\n",
    "## I.- Problema 01\n",
    "\n",
    "\n",
    "<img src=\"https://upload.wikimedia.org/wikipedia/commons/thumb/b/b6/Anscombe.svg/1200px-Anscombe.svg.png\" width=\"360\" height=\"360\" align=\"center\"/>\n",
    "\n"
   ]
  },
  {
   "cell_type": "markdown",
   "metadata": {},
   "source": [
    "El **cuarteto de Anscombe** comprende cuatro conjuntos de datos que tienen las mismas propiedades estadísticas, pero que evidentemente son distintas al inspeccionar sus gráficos respectivos.\n",
    "\n",
    "Cada conjunto consiste de once puntos (x, y) y fueron construidos por el estadístico F. J. Anscombe. El cuarteto es una demostración de la importancia de mirar gráficamente un conjunto de datos antes de analizarlos."
   ]
  },
  {
   "cell_type": "code",
   "execution_count": 156,
   "metadata": {},
   "outputs": [],
   "source": [
    "import os\n",
    "import numpy as np\n",
    "import pandas as pd\n",
    "import matplotlib.pyplot as plt\n",
    "import seaborn as sns\n",
    "from sklearn import datasets\n",
    "from sklearn.model_selection import train_test_split\n",
    "from sklearn.linear_model import LinearRegression\n",
    "from metrics_regression import *\n",
    "from sklearn.metrics import r2_score\n",
    "\n",
    "%matplotlib inline\n",
    "sns.set_palette(\"deep\", desat=.6)\n",
    "sns.set(rc={'figure.figsize':(11.7,8.27)})"
   ]
  },
  {
   "cell_type": "code",
   "execution_count": 157,
   "metadata": {
    "scrolled": true
   },
   "outputs": [
    {
     "data": {
      "text/html": [
       "<div>\n",
       "<style scoped>\n",
       "    .dataframe tbody tr th:only-of-type {\n",
       "        vertical-align: middle;\n",
       "    }\n",
       "\n",
       "    .dataframe tbody tr th {\n",
       "        vertical-align: top;\n",
       "    }\n",
       "\n",
       "    .dataframe thead th {\n",
       "        text-align: right;\n",
       "    }\n",
       "</style>\n",
       "<table border=\"1\" class=\"dataframe\">\n",
       "  <thead>\n",
       "    <tr style=\"text-align: right;\">\n",
       "      <th></th>\n",
       "      <th>x</th>\n",
       "      <th>y</th>\n",
       "      <th>grupo</th>\n",
       "    </tr>\n",
       "  </thead>\n",
       "  <tbody>\n",
       "    <tr>\n",
       "      <th>0</th>\n",
       "      <td>10</td>\n",
       "      <td>8.04</td>\n",
       "      <td>Grupo_1</td>\n",
       "    </tr>\n",
       "    <tr>\n",
       "      <th>1</th>\n",
       "      <td>8</td>\n",
       "      <td>6.95</td>\n",
       "      <td>Grupo_1</td>\n",
       "    </tr>\n",
       "    <tr>\n",
       "      <th>2</th>\n",
       "      <td>13</td>\n",
       "      <td>7.58</td>\n",
       "      <td>Grupo_1</td>\n",
       "    </tr>\n",
       "    <tr>\n",
       "      <th>3</th>\n",
       "      <td>9</td>\n",
       "      <td>8.81</td>\n",
       "      <td>Grupo_1</td>\n",
       "    </tr>\n",
       "    <tr>\n",
       "      <th>4</th>\n",
       "      <td>11</td>\n",
       "      <td>8.33</td>\n",
       "      <td>Grupo_1</td>\n",
       "    </tr>\n",
       "  </tbody>\n",
       "</table>\n",
       "</div>"
      ],
      "text/plain": [
       "    x     y    grupo\n",
       "0  10  8.04  Grupo_1\n",
       "1   8  6.95  Grupo_1\n",
       "2  13  7.58  Grupo_1\n",
       "3   9  8.81  Grupo_1\n",
       "4  11  8.33  Grupo_1"
      ]
     },
     "execution_count": 157,
     "metadata": {},
     "output_type": "execute_result"
    }
   ],
   "source": [
    "# cargar datos\n",
    "df = pd.read_csv(os.path.join(\"data\",\"anscombe.csv\"), sep=\",\")\n",
    "df.head()"
   ]
  },
  {
   "cell_type": "markdown",
   "metadata": {},
   "source": [
    "Basado en la información presentada responda las siguientes preguntas:\n",
    "\n",
    "1. Gráfique mediante un gráfico tipo **scatter** cada grupo. A simple vista, ¿ los grupos son muy distintos entre si?.\n",
    "2. Realice un resumen de las medidas estadísticas más significativas ocuapando el comando **describe** para cada grupo. Interprete.\n",
    "3. Realice un ajuste lineal para cada grupo. Además, grafique los resultados de la regresión lineal para cada grupo. Interprete.\n",
    "4. Calcule los resultados de las métricas para cada grupo. Interprete.\n",
    "5. Es claro que el ajuste lineal para algunos grupos no es el correcto. Existen varias formas de solucionar este problema (eliminar outliers, otros modelos, etc.). Identifique una estrategia para que el modelo de regresión lineal ajuste de mejor manera e implemente otros modelos en los casos que encuentre necesario.  "
   ]
  },
  {
   "cell_type": "markdown",
   "metadata": {},
   "source": [
    "Pregunta 1:"
   ]
  },
  {
   "cell_type": "code",
   "execution_count": 158,
   "metadata": {},
   "outputs": [
    {
     "data": {
      "text/plain": [
       "array(['Grupo_1', 'Grupo_2', 'Grupo_3', 'Grupo_4'], dtype=object)"
      ]
     },
     "execution_count": 158,
     "metadata": {},
     "output_type": "execute_result"
    }
   ],
   "source": [
    "#diferentes grupos\n",
    "df['grupo'].unique()"
   ]
  },
  {
   "cell_type": "code",
   "execution_count": 159,
   "metadata": {},
   "outputs": [
    {
     "data": {
      "text/plain": [
       "<AxesSubplot:xlabel='x', ylabel='y'>"
      ]
     },
     "execution_count": 159,
     "metadata": {},
     "output_type": "execute_result"
    },
    {
     "data": {
      "image/png": "[encoded data removed]",
      "text/plain": [
       "<Figure size 720x576 with 1 Axes>"
      ]
     },
     "metadata": {},
     "output_type": "display_data"
    }
   ],
   "source": [
    "#grafico\n",
    "sns.set(rc={'figure.figsize':(10,8)})\n",
    "\n",
    "sns.scatterplot(\n",
    "        x='x',\n",
    "        y='y',\n",
    "        data=df,\n",
    "        hue='grupo',\n",
    "        palette = ['blue', 'green', 'red','black']\n",
    "    \n",
    ")"
   ]
  },
  {
   "cell_type": "code",
   "execution_count": 160,
   "metadata": {},
   "outputs": [
    {
     "name": "stdout",
     "output_type": "stream",
     "text": [
      "Se puede apreciar que los grupos son muy diferentes entre si\n"
     ]
    }
   ],
   "source": [
    "print(\"Se puede apreciar que los grupos son muy diferentes entre si\")"
   ]
  },
  {
   "cell_type": "markdown",
   "metadata": {},
   "source": [
    "Pregunta 2:"
   ]
  },
  {
   "cell_type": "code",
   "execution_count": 161,
   "metadata": {},
   "outputs": [
    {
     "name": "stdout",
     "output_type": "stream",
     "text": [
      "Grupo 1\n"
     ]
    },
    {
     "data": {
      "text/html": [
       "<div>\n",
       "<style scoped>\n",
       "    .dataframe tbody tr th:only-of-type {\n",
       "        vertical-align: middle;\n",
       "    }\n",
       "\n",
       "    .dataframe tbody tr th {\n",
       "        vertical-align: top;\n",
       "    }\n",
       "\n",
       "    .dataframe thead th {\n",
       "        text-align: right;\n",
       "    }\n",
       "</style>\n",
       "<table border=\"1\" class=\"dataframe\">\n",
       "  <thead>\n",
       "    <tr style=\"text-align: right;\">\n",
       "      <th></th>\n",
       "      <th>x</th>\n",
       "      <th>y</th>\n",
       "    </tr>\n",
       "  </thead>\n",
       "  <tbody>\n",
       "    <tr>\n",
       "      <th>count</th>\n",
       "      <td>11.000000</td>\n",
       "      <td>11.000000</td>\n",
       "    </tr>\n",
       "    <tr>\n",
       "      <th>mean</th>\n",
       "      <td>9.000000</td>\n",
       "      <td>7.500909</td>\n",
       "    </tr>\n",
       "    <tr>\n",
       "      <th>std</th>\n",
       "      <td>3.316625</td>\n",
       "      <td>2.031568</td>\n",
       "    </tr>\n",
       "    <tr>\n",
       "      <th>min</th>\n",
       "      <td>4.000000</td>\n",
       "      <td>4.260000</td>\n",
       "    </tr>\n",
       "    <tr>\n",
       "      <th>25%</th>\n",
       "      <td>6.500000</td>\n",
       "      <td>6.315000</td>\n",
       "    </tr>\n",
       "    <tr>\n",
       "      <th>50%</th>\n",
       "      <td>9.000000</td>\n",
       "      <td>7.580000</td>\n",
       "    </tr>\n",
       "    <tr>\n",
       "      <th>75%</th>\n",
       "      <td>11.500000</td>\n",
       "      <td>8.570000</td>\n",
       "    </tr>\n",
       "    <tr>\n",
       "      <th>max</th>\n",
       "      <td>14.000000</td>\n",
       "      <td>10.840000</td>\n",
       "    </tr>\n",
       "  </tbody>\n",
       "</table>\n",
       "</div>"
      ],
      "text/plain": [
       "               x          y\n",
       "count  11.000000  11.000000\n",
       "mean    9.000000   7.500909\n",
       "std     3.316625   2.031568\n",
       "min     4.000000   4.260000\n",
       "25%     6.500000   6.315000\n",
       "50%     9.000000   7.580000\n",
       "75%    11.500000   8.570000\n",
       "max    14.000000  10.840000"
      ]
     },
     "execution_count": 161,
     "metadata": {},
     "output_type": "execute_result"
    }
   ],
   "source": [
    "# Grupo_1\n",
    "df_1=df.loc[lambda x: x['grupo'] == 'Grupo_1']\n",
    "print(\"Grupo 1\")\n",
    "df_1.describe()"
   ]
  },
  {
   "cell_type": "code",
   "execution_count": 162,
   "metadata": {},
   "outputs": [
    {
     "name": "stdout",
     "output_type": "stream",
     "text": [
      "Grupo 2\n"
     ]
    },
    {
     "data": {
      "text/html": [
       "<div>\n",
       "<style scoped>\n",
       "    .dataframe tbody tr th:only-of-type {\n",
       "        vertical-align: middle;\n",
       "    }\n",
       "\n",
       "    .dataframe tbody tr th {\n",
       "        vertical-align: top;\n",
       "    }\n",
       "\n",
       "    .dataframe thead th {\n",
       "        text-align: right;\n",
       "    }\n",
       "</style>\n",
       "<table border=\"1\" class=\"dataframe\">\n",
       "  <thead>\n",
       "    <tr style=\"text-align: right;\">\n",
       "      <th></th>\n",
       "      <th>x</th>\n",
       "      <th>y</th>\n",
       "    </tr>\n",
       "  </thead>\n",
       "  <tbody>\n",
       "    <tr>\n",
       "      <th>count</th>\n",
       "      <td>11.000000</td>\n",
       "      <td>11.000000</td>\n",
       "    </tr>\n",
       "    <tr>\n",
       "      <th>mean</th>\n",
       "      <td>9.000000</td>\n",
       "      <td>7.500909</td>\n",
       "    </tr>\n",
       "    <tr>\n",
       "      <th>std</th>\n",
       "      <td>3.316625</td>\n",
       "      <td>2.031657</td>\n",
       "    </tr>\n",
       "    <tr>\n",
       "      <th>min</th>\n",
       "      <td>4.000000</td>\n",
       "      <td>3.100000</td>\n",
       "    </tr>\n",
       "    <tr>\n",
       "      <th>25%</th>\n",
       "      <td>6.500000</td>\n",
       "      <td>6.695000</td>\n",
       "    </tr>\n",
       "    <tr>\n",
       "      <th>50%</th>\n",
       "      <td>9.000000</td>\n",
       "      <td>8.140000</td>\n",
       "    </tr>\n",
       "    <tr>\n",
       "      <th>75%</th>\n",
       "      <td>11.500000</td>\n",
       "      <td>8.950000</td>\n",
       "    </tr>\n",
       "    <tr>\n",
       "      <th>max</th>\n",
       "      <td>14.000000</td>\n",
       "      <td>9.260000</td>\n",
       "    </tr>\n",
       "  </tbody>\n",
       "</table>\n",
       "</div>"
      ],
      "text/plain": [
       "               x          y\n",
       "count  11.000000  11.000000\n",
       "mean    9.000000   7.500909\n",
       "std     3.316625   2.031657\n",
       "min     4.000000   3.100000\n",
       "25%     6.500000   6.695000\n",
       "50%     9.000000   8.140000\n",
       "75%    11.500000   8.950000\n",
       "max    14.000000   9.260000"
      ]
     },
     "execution_count": 162,
     "metadata": {},
     "output_type": "execute_result"
    }
   ],
   "source": [
    "# Grupo_2\n",
    "df_2=df.loc[lambda x: x['grupo'] == 'Grupo_2']\n",
    "print(\"Grupo 2\")\n",
    "df_2.describe()"
   ]
  },
  {
   "cell_type": "code",
   "execution_count": 163,
   "metadata": {},
   "outputs": [
    {
     "name": "stdout",
     "output_type": "stream",
     "text": [
      "Grupo 3\n"
     ]
    },
    {
     "data": {
      "text/html": [
       "<div>\n",
       "<style scoped>\n",
       "    .dataframe tbody tr th:only-of-type {\n",
       "        vertical-align: middle;\n",
       "    }\n",
       "\n",
       "    .dataframe tbody tr th {\n",
       "        vertical-align: top;\n",
       "    }\n",
       "\n",
       "    .dataframe thead th {\n",
       "        text-align: right;\n",
       "    }\n",
       "</style>\n",
       "<table border=\"1\" class=\"dataframe\">\n",
       "  <thead>\n",
       "    <tr style=\"text-align: right;\">\n",
       "      <th></th>\n",
       "      <th>x</th>\n",
       "      <th>y</th>\n",
       "    </tr>\n",
       "  </thead>\n",
       "  <tbody>\n",
       "    <tr>\n",
       "      <th>count</th>\n",
       "      <td>11.000000</td>\n",
       "      <td>11.000000</td>\n",
       "    </tr>\n",
       "    <tr>\n",
       "      <th>mean</th>\n",
       "      <td>9.000000</td>\n",
       "      <td>7.500000</td>\n",
       "    </tr>\n",
       "    <tr>\n",
       "      <th>std</th>\n",
       "      <td>3.316625</td>\n",
       "      <td>2.030424</td>\n",
       "    </tr>\n",
       "    <tr>\n",
       "      <th>min</th>\n",
       "      <td>4.000000</td>\n",
       "      <td>5.390000</td>\n",
       "    </tr>\n",
       "    <tr>\n",
       "      <th>25%</th>\n",
       "      <td>6.500000</td>\n",
       "      <td>6.250000</td>\n",
       "    </tr>\n",
       "    <tr>\n",
       "      <th>50%</th>\n",
       "      <td>9.000000</td>\n",
       "      <td>7.110000</td>\n",
       "    </tr>\n",
       "    <tr>\n",
       "      <th>75%</th>\n",
       "      <td>11.500000</td>\n",
       "      <td>7.980000</td>\n",
       "    </tr>\n",
       "    <tr>\n",
       "      <th>max</th>\n",
       "      <td>14.000000</td>\n",
       "      <td>12.740000</td>\n",
       "    </tr>\n",
       "  </tbody>\n",
       "</table>\n",
       "</div>"
      ],
      "text/plain": [
       "               x          y\n",
       "count  11.000000  11.000000\n",
       "mean    9.000000   7.500000\n",
       "std     3.316625   2.030424\n",
       "min     4.000000   5.390000\n",
       "25%     6.500000   6.250000\n",
       "50%     9.000000   7.110000\n",
       "75%    11.500000   7.980000\n",
       "max    14.000000  12.740000"
      ]
     },
     "execution_count": 163,
     "metadata": {},
     "output_type": "execute_result"
    }
   ],
   "source": [
    "# Grupo_3\n",
    "df_3=df.loc[lambda x: x['grupo'] == 'Grupo_3']\n",
    "print(\"Grupo 3\")\n",
    "df_3.describe()"
   ]
  },
  {
   "cell_type": "code",
   "execution_count": 164,
   "metadata": {},
   "outputs": [
    {
     "name": "stdout",
     "output_type": "stream",
     "text": [
      "Grupo 4\n"
     ]
    },
    {
     "data": {
      "text/html": [
       "<div>\n",
       "<style scoped>\n",
       "    .dataframe tbody tr th:only-of-type {\n",
       "        vertical-align: middle;\n",
       "    }\n",
       "\n",
       "    .dataframe tbody tr th {\n",
       "        vertical-align: top;\n",
       "    }\n",
       "\n",
       "    .dataframe thead th {\n",
       "        text-align: right;\n",
       "    }\n",
       "</style>\n",
       "<table border=\"1\" class=\"dataframe\">\n",
       "  <thead>\n",
       "    <tr style=\"text-align: right;\">\n",
       "      <th></th>\n",
       "      <th>x</th>\n",
       "      <th>y</th>\n",
       "    </tr>\n",
       "  </thead>\n",
       "  <tbody>\n",
       "    <tr>\n",
       "      <th>count</th>\n",
       "      <td>11.000000</td>\n",
       "      <td>11.000000</td>\n",
       "    </tr>\n",
       "    <tr>\n",
       "      <th>mean</th>\n",
       "      <td>9.000000</td>\n",
       "      <td>7.500909</td>\n",
       "    </tr>\n",
       "    <tr>\n",
       "      <th>std</th>\n",
       "      <td>3.316625</td>\n",
       "      <td>2.030579</td>\n",
       "    </tr>\n",
       "    <tr>\n",
       "      <th>min</th>\n",
       "      <td>8.000000</td>\n",
       "      <td>5.250000</td>\n",
       "    </tr>\n",
       "    <tr>\n",
       "      <th>25%</th>\n",
       "      <td>8.000000</td>\n",
       "      <td>6.170000</td>\n",
       "    </tr>\n",
       "    <tr>\n",
       "      <th>50%</th>\n",
       "      <td>8.000000</td>\n",
       "      <td>7.040000</td>\n",
       "    </tr>\n",
       "    <tr>\n",
       "      <th>75%</th>\n",
       "      <td>8.000000</td>\n",
       "      <td>8.190000</td>\n",
       "    </tr>\n",
       "    <tr>\n",
       "      <th>max</th>\n",
       "      <td>19.000000</td>\n",
       "      <td>12.500000</td>\n",
       "    </tr>\n",
       "  </tbody>\n",
       "</table>\n",
       "</div>"
      ],
      "text/plain": [
       "               x          y\n",
       "count  11.000000  11.000000\n",
       "mean    9.000000   7.500909\n",
       "std     3.316625   2.030579\n",
       "min     8.000000   5.250000\n",
       "25%     8.000000   6.170000\n",
       "50%     8.000000   7.040000\n",
       "75%     8.000000   8.190000\n",
       "max    19.000000  12.500000"
      ]
     },
     "execution_count": 164,
     "metadata": {},
     "output_type": "execute_result"
    }
   ],
   "source": [
    "# Grupo_4\n",
    "df_4=df.loc[lambda x: x['grupo'] == 'Grupo_4']\n",
    "print(\"Grupo 4\")\n",
    "df_4.describe()"
   ]
  },
  {
   "cell_type": "code",
   "execution_count": 165,
   "metadata": {},
   "outputs": [
    {
     "name": "stdout",
     "output_type": "stream",
     "text": [
      "De esto podemos ver claramente que tenemos distintos resultados para los 4, por lo cual son diferentes. Sin embargo claramente tienen los 4 el mismo promedio y desviación de las variables x , y \n"
     ]
    }
   ],
   "source": [
    "print(\"De esto podemos ver claramente que tenemos distintos resultados para los 4, por lo cual son diferentes. Sin embargo claramente tienen los 4 el mismo promedio y desviación de las variables x , y \")"
   ]
  },
  {
   "cell_type": "markdown",
   "metadata": {},
   "source": [
    "Pregunta 3:"
   ]
  },
  {
   "cell_type": "code",
   "execution_count": 166,
   "metadata": {},
   "outputs": [],
   "source": [
    "x_range = np.arange(0,20,0.01)"
   ]
  },
  {
   "cell_type": "code",
   "execution_count": 167,
   "metadata": {},
   "outputs": [],
   "source": [
    "# datos para la regresion lineal simple del Grupo 1\n",
    "X_1 = df_1[['x']]\n",
    "Y_1 = df_1['y']\n",
    "\n",
    "# split dataset\n",
    "X_1_train, X_1_test, Y_1_train, Y_1_test = train_test_split(X_1, Y_1, test_size=0.2, random_state = 2) \n",
    "\n",
    "# ajustar el modelo\n",
    "model_1 = LinearRegression() # Creando el modelo.\n",
    "model_1.fit(X_1_train, Y_1_train) # ajustando el modelo\n",
    "\n",
    "# prediciones\n",
    "Y_predict_1 = model_1.predict(X_1_test)"
   ]
  },
  {
   "cell_type": "code",
   "execution_count": 168,
   "metadata": {},
   "outputs": [
    {
     "name": "stdout",
     "output_type": "stream",
     "text": [
      "Grafico refreción lineal grupo 1:\n"
     ]
    },
    {
     "data": {
      "image/png": "[encoded data removed]",
      "text/plain": [
       "<Figure size 792x612 with 1 Axes>"
      ]
     },
     "metadata": {},
     "output_type": "display_data"
    }
   ],
   "source": [
    "# graficos con seaborn para el grupo 1\n",
    "        \n",
    "beta_0_1 = model_1.intercept_\n",
    "beta_1_1 = model_1.coef_[0]\n",
    "        \n",
    "df_plot_1 = pd.DataFrame({'x':x_range,\n",
    "                        'y_true':[beta_0_1 + beta_1_1*n for n in x_range]})\n",
    "  \n",
    "df_1 = pd.DataFrame({'x':X_1['x'],\n",
    "                           'y_true':Y_1})\n",
    "        \n",
    "fig, ax = plt.subplots(figsize=(11, 8.5))\n",
    "        \n",
    "        \n",
    "sns.scatterplot(x='x', y='y_true', data=df_1, ax=ax)\n",
    "sns.lineplot(x='x', y='y_true', data=df_plot_1,ax=ax,color=\"red\")\n",
    "\n",
    "plt.xlabel('x')\n",
    "plt.ylabel('y')\n",
    "print(\"Grafico refreción lineal grupo 1:\")\n",
    "plt.show()"
   ]
  },
  {
   "cell_type": "code",
   "execution_count": 169,
   "metadata": {},
   "outputs": [],
   "source": [
    "# datos para la regresion lineal simple del Grupo 2\n",
    "X_2 = df_2[['x']]\n",
    "Y_2 = df_2['y']\n",
    "\n",
    "# split dataset\n",
    "X_2_train, X_2_test, Y_2_train, Y_2_test = train_test_split(X_2, Y_2, test_size=0.2, random_state = 2) \n",
    "\n",
    "# ajustar el modelo\n",
    "model_2 = LinearRegression() # Creando el modelo.\n",
    "model_2.fit(X_2_train, Y_2_train) # ajustando el modelo\n",
    "\n",
    "# prediciones\n",
    "Y_predict_2 = model_2.predict(X_2_test)"
   ]
  },
  {
   "cell_type": "code",
   "execution_count": 170,
   "metadata": {},
   "outputs": [
    {
     "name": "stdout",
     "output_type": "stream",
     "text": [
      "Grafico refreción lineal grupo 2:\n"
     ]
    },
    {
     "data": {
      "image/png": "[encoded data removed]",
      "text/plain": [
       "<Figure size 792x612 with 1 Axes>"
      ]
     },
     "metadata": {},
     "output_type": "display_data"
    }
   ],
   "source": [
    "# graficos con seaborn para el grupo 2\n",
    "        \n",
    "beta_0_2 = model_2.intercept_\n",
    "beta_1_2 = model_2.coef_[0]\n",
    "        \n",
    "df_plot_2 = pd.DataFrame({'x':x_range,\n",
    "                        'y_true':[beta_0_2 + beta_1_2*n for n in x_range]})\n",
    "  \n",
    "df_2 = pd.DataFrame({'x':X_2['x'],\n",
    "                           'y_true':Y_2})\n",
    "        \n",
    "fig, ax = plt.subplots(figsize=(11, 8.5))\n",
    "        \n",
    "        \n",
    "sns.scatterplot(x='x', y='y_true', data=df_2, ax=ax)\n",
    "sns.lineplot(x='x', y='y_true', data=df_plot_2,ax=ax,color=\"red\")\n",
    "\n",
    "plt.xlabel('x')\n",
    "plt.ylabel('y')\n",
    "print(\"Grafico refreción lineal grupo 2:\")\n",
    "plt.show()"
   ]
  },
  {
   "cell_type": "code",
   "execution_count": 171,
   "metadata": {},
   "outputs": [],
   "source": [
    "# datos para la regresion lineal simple del Grupo 3\n",
    "X_3 = df_3[['x']]\n",
    "Y_3 = df_3['y']\n",
    "\n",
    "# split dataset\n",
    "X_3_train, X_3_test, Y_3_train, Y_3_test = train_test_split(X_3, Y_3, test_size=0.2, random_state = 2) \n",
    "\n",
    "# ajustar el modelo\n",
    "model_3 = LinearRegression() # Creando el modelo.\n",
    "model_3.fit(X_3_train, Y_3_train) # ajustando el modelo\n",
    "\n",
    "# prediciones\n",
    "Y_predict_3 = model_3.predict(X_3_test)"
   ]
  },
  {
   "cell_type": "code",
   "execution_count": 172,
   "metadata": {},
   "outputs": [
    {
     "name": "stdout",
     "output_type": "stream",
     "text": [
      "Grafico refreción lineal grupo 3:\n"
     ]
    },
    {
     "data": {
      "image/png": "[encoded data removed]",
      "text/plain": [
       "<Figure size 792x612 with 1 Axes>"
      ]
     },
     "metadata": {},
     "output_type": "display_data"
    }
   ],
   "source": [
    "# graficos con seaborn para el grupo 3\n",
    "        \n",
    "beta_0_3 = model_3.intercept_\n",
    "beta_1_3 = model_3.coef_[0]\n",
    "        \n",
    "df_plot_3 = pd.DataFrame({'x':x_range,\n",
    "                        'y_true':[beta_0_3 + beta_1_3*n for n in x_range]})\n",
    "  \n",
    "df_3 = pd.DataFrame({'x':X_3['x'],\n",
    "                           'y_true':Y_3})\n",
    "        \n",
    "fig, ax = plt.subplots(figsize=(11, 8.5))\n",
    "        \n",
    "        \n",
    "sns.scatterplot(x='x', y='y_true', data=df_3, ax=ax)\n",
    "sns.lineplot(x='x', y='y_true', data=df_plot_3,ax=ax,color=\"red\")\n",
    "\n",
    "plt.xlabel('x')\n",
    "plt.ylabel('y')\n",
    "print(\"Grafico refreción lineal grupo 3:\")\n",
    "plt.show()"
   ]
  },
  {
   "cell_type": "code",
   "execution_count": 173,
   "metadata": {},
   "outputs": [],
   "source": [
    "# datos para la regresion lineal simple del Grupo 4\n",
    "X_4 = df_4[['x']]\n",
    "Y_4 = df_4['y']\n",
    "\n",
    "# split dataset\n",
    "X_4_train, X_4_test, Y_4_train, Y_4_test = train_test_split(X_4, Y_4, test_size=0.2, random_state = 2) \n",
    "\n",
    "# ajustar el modelo\n",
    "model_4 = LinearRegression() # Creando el modelo.\n",
    "model_4.fit(X_4_train, Y_4_train) # ajustando el modelo\n",
    "\n",
    "# prediciones\n",
    "Y_predict_4 = model_4.predict(X_4_test)"
   ]
  },
  {
   "cell_type": "code",
   "execution_count": 174,
   "metadata": {
    "scrolled": true
   },
   "outputs": [
    {
     "name": "stdout",
     "output_type": "stream",
     "text": [
      "Grafico refreción lineal grupo 4:\n"
     ]
    },
    {
     "data": {
      "image/png": "[encoded data removed]",
      "text/plain": [
       "<Figure size 792x612 with 1 Axes>"
      ]
     },
     "metadata": {},
     "output_type": "display_data"
    }
   ],
   "source": [
    "# graficos con seaborn para el grupo 4\n",
    "        \n",
    "beta_0_4 = model_4.intercept_\n",
    "beta_1_4 = model_4.coef_[0]\n",
    "        \n",
    "df_plot_4 = pd.DataFrame({'x':x_range,\n",
    "                        'y_true':[beta_0_4 + beta_1_4*n for n in x_range]})\n",
    "  \n",
    "df_4 = pd.DataFrame({'x':X_4['x'],\n",
    "                           'y_true':Y_4})\n",
    "        \n",
    "fig, ax = plt.subplots(figsize=(11, 8.5))\n",
    "        \n",
    "        \n",
    "sns.scatterplot(x='x', y='y_true', data=df_4, ax=ax)\n",
    "sns.lineplot(x='x', y='y_true', data=df_plot_4,ax=ax,color=\"red\")\n",
    "\n",
    "plt.xlabel('x')\n",
    "plt.ylabel('y')\n",
    "print(\"Grafico refreción lineal grupo 4:\")\n",
    "plt.show()"
   ]
  },
  {
   "cell_type": "code",
   "execution_count": 175,
   "metadata": {},
   "outputs": [
    {
     "name": "stdout",
     "output_type": "stream",
     "text": [
      "De aca podemos notar que en el grupo 1 la regresión lineal parece ser correcta, mientras que en el grupo 2 no, ya que se aprecia un comportamiento claramente no lineal, en el grupo 3 pareciera que es correcta la regresión lineal aunque se detecta un outier que se deberia eliminar y finalmente en el grupo 4 la regresión da resultados muy malos.\n"
     ]
    }
   ],
   "source": [
    "print(\"De aca podemos notar que en el grupo 1 la regresión lineal parece ser correcta, mientras que en el grupo 2 no, ya que se aprecia un comportamiento claramente no lineal, en el grupo 3 pareciera que es correcta la regresión lineal aunque se detecta un outier que se deberia eliminar y finalmente en el grupo 4 la regresión da resultados muy malos.\")"
   ]
  },
  {
   "cell_type": "markdown",
   "metadata": {},
   "source": [
    "Pregunta 4:"
   ]
  },
  {
   "cell_type": "code",
   "execution_count": 176,
   "metadata": {},
   "outputs": [
    {
     "name": "stdout",
     "output_type": "stream",
     "text": [
      "\n",
      "Metricas para cada grupo:\n"
     ]
    },
    {
     "data": {
      "text/html": [
       "<div>\n",
       "<style scoped>\n",
       "    .dataframe tbody tr th:only-of-type {\n",
       "        vertical-align: middle;\n",
       "    }\n",
       "\n",
       "    .dataframe tbody tr th {\n",
       "        vertical-align: top;\n",
       "    }\n",
       "\n",
       "    .dataframe thead th {\n",
       "        text-align: right;\n",
       "    }\n",
       "</style>\n",
       "<table border=\"1\" class=\"dataframe\">\n",
       "  <thead>\n",
       "    <tr style=\"text-align: right;\">\n",
       "      <th></th>\n",
       "      <th>mae</th>\n",
       "      <th>mse</th>\n",
       "      <th>rmse</th>\n",
       "      <th>mape</th>\n",
       "      <th>maape</th>\n",
       "      <th>wmape</th>\n",
       "      <th>mmape</th>\n",
       "      <th>smape</th>\n",
       "      <th>modelo</th>\n",
       "    </tr>\n",
       "  </thead>\n",
       "  <tbody>\n",
       "    <tr>\n",
       "      <th>0</th>\n",
       "      <td>0.8871</td>\n",
       "      <td>1.3933</td>\n",
       "      <td>1.1804</td>\n",
       "      <td>0.1670</td>\n",
       "      <td>0.1599</td>\n",
       "      <td>0.1324</td>\n",
       "      <td>0.1399</td>\n",
       "      <td>0.1429</td>\n",
       "      <td>Grupo_1</td>\n",
       "    </tr>\n",
       "    <tr>\n",
       "      <th>0</th>\n",
       "      <td>1.2246</td>\n",
       "      <td>1.5348</td>\n",
       "      <td>1.2389</td>\n",
       "      <td>0.1507</td>\n",
       "      <td>0.1495</td>\n",
       "      <td>0.1490</td>\n",
       "      <td>0.1341</td>\n",
       "      <td>0.1635</td>\n",
       "      <td>Grupo_2</td>\n",
       "    </tr>\n",
       "    <tr>\n",
       "      <th>0</th>\n",
       "      <td>0.4545</td>\n",
       "      <td>0.2815</td>\n",
       "      <td>0.5305</td>\n",
       "      <td>0.0622</td>\n",
       "      <td>0.0620</td>\n",
       "      <td>0.0649</td>\n",
       "      <td>0.0547</td>\n",
       "      <td>0.0598</td>\n",
       "      <td>Grupo_3</td>\n",
       "    </tr>\n",
       "    <tr>\n",
       "      <th>0</th>\n",
       "      <td>1.2605</td>\n",
       "      <td>1.6576</td>\n",
       "      <td>1.2875</td>\n",
       "      <td>0.1718</td>\n",
       "      <td>0.1700</td>\n",
       "      <td>0.1708</td>\n",
       "      <td>0.1507</td>\n",
       "      <td>0.1766</td>\n",
       "      <td>Grupo_4</td>\n",
       "    </tr>\n",
       "  </tbody>\n",
       "</table>\n",
       "</div>"
      ],
      "text/plain": [
       "      mae     mse    rmse    mape   maape   wmape   mmape   smape   modelo\n",
       "0  0.8871  1.3933  1.1804  0.1670  0.1599  0.1324  0.1399  0.1429  Grupo_1\n",
       "0  1.2246  1.5348  1.2389  0.1507  0.1495  0.1490  0.1341  0.1635  Grupo_2\n",
       "0  0.4545  0.2815  0.5305  0.0622  0.0620  0.0649  0.0547  0.0598  Grupo_3\n",
       "0  1.2605  1.6576  1.2875  0.1718  0.1700  0.1708  0.1507  0.1766  Grupo_4"
      ]
     },
     "execution_count": 176,
     "metadata": {},
     "output_type": "execute_result"
    }
   ],
   "source": [
    "#modelo grupo_1\n",
    "df_temp_1 = pd.DataFrame(\n",
    "    {\n",
    "        'y':Y_1_test,\n",
    "        'yhat': Y_predict_1\n",
    "        }\n",
    ")\n",
    "\n",
    "df_metrics_1 = summary_metrics(df_temp_1)\n",
    "\n",
    "df_metrics_1['modelo'] = 'Grupo_1'\n",
    "\n",
    "#modelo grupo_2\n",
    "df_temp_2 = pd.DataFrame(\n",
    "    {\n",
    "        'y':Y_2_test,\n",
    "        'yhat': Y_predict_2\n",
    "        }\n",
    ")\n",
    "\n",
    "df_metrics_2 = summary_metrics(df_temp_2)\n",
    "\n",
    "df_metrics_2['modelo'] = 'Grupo_2'\n",
    "\n",
    "#modelo grupo_3\n",
    "df_temp_3 = pd.DataFrame(\n",
    "    {\n",
    "        'y':Y_3_test,\n",
    "        'yhat': Y_predict_3\n",
    "        }\n",
    ")\n",
    "\n",
    "df_metrics_3 = summary_metrics(df_temp_3)\n",
    "\n",
    "df_metrics_3['modelo'] = 'Grupo_3'\n",
    "\n",
    "#modelo grupo_4\n",
    "df_temp_4 = pd.DataFrame(\n",
    "    {\n",
    "        'y':Y_4_test,\n",
    "        'yhat': Y_predict_4\n",
    "        }\n",
    ")\n",
    "\n",
    "df_metrics_4 = summary_metrics(df_temp_4)\n",
    "\n",
    "df_metrics_4['modelo'] = 'Grupo_4'\n",
    "\n",
    "#concatenar los modelos\n",
    "print('\\nMetricas para cada grupo:')\n",
    "pd.concat([df_metrics_1,df_metrics_2,df_metrics_3,df_metrics_4])\n"
   ]
  },
  {
   "cell_type": "code",
   "execution_count": 177,
   "metadata": {},
   "outputs": [
    {
     "name": "stdout",
     "output_type": "stream",
     "text": [
      "De esto se aprecia que el grupo 3 es el que mejor se puede estimar con una regresión lineal simple.\n"
     ]
    }
   ],
   "source": [
    "print(\"De esto se aprecia que el grupo 3 es el que mejor se puede estimar con una regresión lineal simple.\")"
   ]
  },
  {
   "cell_type": "markdown",
   "metadata": {},
   "source": [
    "Pregunta 5:"
   ]
  },
  {
   "cell_type": "code",
   "execution_count": 178,
   "metadata": {},
   "outputs": [
    {
     "name": "stdout",
     "output_type": "stream",
     "text": [
      "En el grupo 1 vemos que la regresión es correcta.\n"
     ]
    }
   ],
   "source": [
    "print(\"En el grupo 1 vemos que la regresión es correcta.\")"
   ]
  },
  {
   "cell_type": "code",
   "execution_count": 179,
   "metadata": {},
   "outputs": [
    {
     "name": "stdout",
     "output_type": "stream",
     "text": [
      "En el grupo 2 vemos que tiene un comportamiento no lineal, por lo cual un estimador cuadratico seria mejor.\n"
     ]
    }
   ],
   "source": [
    "print(\"En el grupo 2 vemos que tiene un comportamiento no lineal, por lo cual un estimador cuadratico seria mejor.\")"
   ]
  },
  {
   "cell_type": "code",
   "execution_count": 180,
   "metadata": {},
   "outputs": [
    {
     "name": "stdout",
     "output_type": "stream",
     "text": [
      "En el grupo 3 vemos que la regresión lineal es la correcta pero se deberia elimina un outlier\n"
     ]
    }
   ],
   "source": [
    "print(\"En el grupo 3 vemos que la regresión lineal es la correcta pero se deberia elimina un outlier\")"
   ]
  },
  {
   "cell_type": "code",
   "execution_count": 181,
   "metadata": {},
   "outputs": [
    {
     "name": "stdout",
     "output_type": "stream",
     "text": [
      "El grupo 4 no son datos que se puedan estimar linealmente.\n"
     ]
    }
   ],
   "source": [
    "print(\"El grupo 4 no son datos que se puedan estimar linealmente.\")"
   ]
  }
 ],
 "metadata": {
  "kernelspec": {
   "display_name": "Python 3",
   "language": "python",
   "name": "python3"
  },
  "language_info": {
   "codemirror_mode": {
    "name": "ipython",
    "version": 3
   },
   "file_extension": ".py",
   "mimetype": "text/x-python",
   "name": "python",
   "nbconvert_exporter": "python",
   "pygments_lexer": "ipython3",
   "version": "3.8.3"
  }
 },
 "nbformat": 4,
 "nbformat_minor": 4
}
